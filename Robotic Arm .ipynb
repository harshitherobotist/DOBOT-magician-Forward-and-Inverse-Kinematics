{
 "cells": [
  {
   "cell_type": "code",
   "execution_count": 48,
   "id": "edf51bbc",
   "metadata": {},
   "outputs": [
    {
     "name": "stdout",
     "output_type": "stream",
     "text": [
      "C3 -0.8499370118417737\n",
      "11.309932474020215 127.4642726317232 -31.79518089447355\n",
      "54.02590149784495 10.805180299568994 105.3574750692168\n",
      "[[ 9.75784659e-01 -9.68646535e-02 -2.92980789e-01  2.48513414e+02]\n",
      " [ 1.95156932e-01 -1.93729307e-02  9.61207745e-01  4.97026828e+01]\n",
      " [-9.87829516e-02 -9.95109003e-01 -9.95109003e-01 -4.66370859e+01]\n",
      " [ 0.00000000e+00  0.00000000e+00  0.00000000e+00  1.00000000e+00]]\n"
     ]
    }
   ],
   "source": [
    "import numpy as np\n",
    "import matplotlib.pyplot as plt\n",
    "import math\n",
    "# theta1 = 0\n",
    "# theta2 = 0\n",
    "# theta3 = 0\n",
    "L1 = 50\n",
    "L2 = 135\n",
    "L_tip = 147\n",
    "\n",
    "x = 50\n",
    "y = 10\n",
    "z = 100\n",
    "if(x> 150 or y>150 or z>150):\n",
    "    print(\"ReEnter Coordinates as Given are out of workspace\")\n",
    "P_2 = (x+y)**2+(z-L1)**2\n",
    "\n",
    "C3 = (P_2-L2**2-L_tip**2)/(2*(L2*L_tip))\n",
    "print(\"C3\",C3)\n",
    "\n",
    "r = L2 + (L_tip*C3)\n",
    "\n",
    "a = z-L1\n",
    "\n",
    "#C3 = (p_2 - L2**2 - L_tip**2) /(2*L2*L_tip)\n",
    "theta1 = math.atan(y/x)\n",
    "\n",
    "b = x/np.cos(theta1)\n",
    "\n",
    "theta2 = 2*math.atan((b + (b**2 + a**2 - r**2)**0.5) / (r+a))\n",
    "theta3 = math.atan((1 - C3**2)**0.5 / C3)\n",
    "print(math.degrees(theta1),math.degrees(theta2) ,math.degrees(theta3) )\n",
    "\n",
    "x1 = L2*C1*S2 + L_tip*C1*(C2*S3 + S2*C3)\n",
    "y1 = L2*S1*S2 + L_tip*S1*(S2*C3 + C2*S3)\n",
    "z1 = L1 + L_tip*(C2*C3 - S2*S3) + L2*C2\n",
    "C1 = np.cos(theta1)\n",
    "C2 = np.cos(theta2)\n",
    "C3 = np.cos(theta3)\n",
    "S1 = np.sin(theta1)\n",
    "S2 = np.sin(theta2)\n",
    "S3 = np.sin(theta3)\n",
    "print(x1,y1,z1)\n",
    "\n",
    "T0_1= [[np.cos(theta1), -np.sin(theta1),0.0, 0.0 ],\n",
    "       [np.sin(theta1), np.cos(theta1),0.0, 0.0],\n",
    "       [0.0, 0.0, 1.0, L1],\n",
    "       [0.0, 0.0, 0.0, 1.0]]\n",
    "T1_2= [[np.sin(theta2), np.cos(theta2), 0.0, 0.0],\n",
    "       [0.0, 0.0, 1.0, 0.0],\n",
    "       [np.cos(theta2), -np.sin(theta2), 0.0, 0.0],\n",
    "       [0.0, 0.0, 0.0, 1.0]]\n",
    "T2_3= [[np.cos(theta3), -np.sin(theta3), 0.0, L2],\n",
    "       [np.sin(theta3), np.cos(theta3), 0.0, 0.0],\n",
    "       [0.0, 0.0, 1.0, 0.0],\n",
    "       [0.0, 0.0, 0.0, 1.0]]\n",
    "T3_ef=[[1.0, 0.0, 0.0, L_tip],\n",
    "       [0.0, 1.0, 1.0, 0.0],\n",
    "       [0.0, 0.0, 1.0, 0.0],\n",
    "       [0.0, 0.0, 0.0, 1.0]]\n",
    "T0_2 = np.matmul(T0_1,T1_2)\n",
    "T0_3 = np.matmul(T0_2,T2_3)\n",
    "\n",
    "T0_ef = np.matmul(T0_3,T3_ef)\n",
    "C1 = np.cos(theta1)\n",
    "C2 = np.cos(theta2)\n",
    "C3 = np.cos(theta3)\n",
    "S1 = np.sin(theta1)\n",
    "S2 = np.sin(theta2)\n",
    "S3 = np.sin(theta3)\n",
    "\n",
    "\n",
    "print(T0_ef)"
   ]
  },
  {
   "cell_type": "code",
   "execution_count": null,
   "id": "ff6c8671",
   "metadata": {},
   "outputs": [],
   "source": []
  },
  {
   "cell_type": "code",
   "execution_count": null,
   "id": "8981ee9e",
   "metadata": {},
   "outputs": [],
   "source": []
  }
 ],
 "metadata": {
  "kernelspec": {
   "display_name": "Python 3",
   "language": "python",
   "name": "python3"
  },
  "language_info": {
   "codemirror_mode": {
    "name": "ipython",
    "version": 3
   },
   "file_extension": ".py",
   "mimetype": "text/x-python",
   "name": "python",
   "nbconvert_exporter": "python",
   "pygments_lexer": "ipython3",
   "version": "3.7.10"
  }
 },
 "nbformat": 4,
 "nbformat_minor": 5
}
